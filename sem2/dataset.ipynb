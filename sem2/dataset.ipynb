{
 "cells": [
  {
   "cell_type": "code",
   "execution_count": 6,
   "id": "f6c91794",
   "metadata": {},
   "outputs": [],
   "source": [
    "import os\n",
    "import urllib.request\n",
    "import zipfile\n",
    "from pathlib import Path"
   ]
  },
  {
   "cell_type": "code",
   "execution_count": 7,
   "id": "7a9c1236",
   "metadata": {},
   "outputs": [],
   "source": [
    "url = \"https://github.com/Shenggan/BCCD_Dataset/archive/refs/heads/master.zip\"\n",
    "filename = \"bccd.zip\"\n",
    "extract_dir = \"bccd_dataset\"\n",
    "dataset_folder_name = \"BCCD_Dataset-master\""
   ]
  },
  {
   "cell_type": "code",
   "execution_count": 3,
   "id": "5576b25c",
   "metadata": {},
   "outputs": [
    {
     "data": {
      "text/plain": [
       "('bccd.zip', <http.client.HTTPMessage at 0x1dc8d7880e0>)"
      ]
     },
     "execution_count": 3,
     "metadata": {},
     "output_type": "execute_result"
    }
   ],
   "source": [
    "urllib.request.urlretrieve(url, filename)"
   ]
  },
  {
   "cell_type": "code",
   "execution_count": 4,
   "id": "1361ceeb",
   "metadata": {},
   "outputs": [],
   "source": [
    "with zipfile.ZipFile(filename, 'r') as zip_ref:\n",
    "    zip_ref.extractall(dir)"
   ]
  },
  {
   "cell_type": "code",
   "execution_count": 8,
   "id": "18b92821",
   "metadata": {},
   "outputs": [],
   "source": [
    "bccd_root = os.path.join(extract_dir, dataset_folder_name)"
   ]
  },
  {
   "cell_type": "code",
   "execution_count": null,
   "id": "d7bdb845",
   "metadata": {},
   "outputs": [
    {
     "data": {
      "text/plain": [
       "['BCCD_Dataset-master']"
      ]
     },
     "execution_count": 5,
     "metadata": {},
     "output_type": "execute_result"
    }
   ],
   "source": [
    "os.listdir(dir)"
   ]
  },
  {
   "cell_type": "markdown",
   "id": "f163021e",
   "metadata": {},
   "source": [
    "Для 6ой лабораторной"
   ]
  },
  {
   "cell_type": "code",
   "execution_count": null,
   "id": "524aaf6b",
   "metadata": {},
   "outputs": [],
   "source": [
    "#Обрезка объектов из изображений BCCD и сохранение в папку classification_data\n",
    "import cv2\n",
    "import xml.etree.ElementTree as ET\n",
    "from glob import glob\n",
    "\n",
    "images_path = 'bccd_dataset/BCCD_Dataset-master/BCCD/JPEGImages'\n",
    "annotations_path = 'bccd_dataset/BCCD_Dataset-master/BCCD/Annotations'\n",
    "output_path = 'classification_data'\n",
    "# Создаем директории для каждого класса\n",
    "classes = ['WBC', 'RBC', 'Platelets']\n",
    "os.makedirs(output_path, exist_ok=True)\n",
    "for cls in classes:\n",
    "    os.makedirs(os.path.join(output_path, cls), exist_ok=True)\n",
    "# получаем списки файлов изображений и аннотаций\n",
    "image_files = sorted(glob(os.path.join(images_path, '*.jpg')))\n",
    "annotation_files = sorted(glob(os.path.join(annotations_path, '*.xml')))\n",
    "# цикл по всем изображениям и соответствующим аннотациям\n",
    "for img_path in image_files:\n",
    "    filename = os.path.splitext(os.path.basename(img_path))[0]\n",
    "    annot_file = os.path.join(annotations_path, filename + '.xml')\n",
    "    if not os.path.exists(annot_file):\n",
    "        continue\n",
    "    # конвертация BGR->RGB для корректного отображения\n",
    "    image = cv2.imread(img_path)\n",
    "    if image is None:\n",
    "        continue\n",
    "    # парсим XML-аннотацию и обрезаем каждый объект\n",
    "    tree = ET.parse(annot_file)\n",
    "    root = tree.getroot()\n",
    "\n",
    "    for idx, obj in enumerate(root.findall('object')):\n",
    "        cls_name = obj.find('name').text\n",
    "        if cls_name not in classes:\n",
    "            continue\n",
    "        # координаты ограничивающего прямоугольника\n",
    "        bbox = obj.find('bndbox')\n",
    "        xmin = int(float(bbox.find('xmin').text))\n",
    "        ymin = int(float(bbox.find('ymin').text))\n",
    "        xmax = int(float(bbox.find('xmax').text))\n",
    "        ymax = int(float(bbox.find('ymax').text))\n",
    "\n",
    "        cropped = image[ymin:ymax, xmin:xmax]\n",
    "        if cropped.size == 0:\n",
    "            continue\n",
    "        # сохраняем обрезанное изображение\n",
    "        save_path = os.path.join(output_path, cls_name, f'{filename}_{idx}.jpg')\n",
    "        cv2.imwrite(save_path, cropped)\n",
    "\n"
   ]
  },
  {
   "cell_type": "code",
   "execution_count": null,
   "id": "1941e0fe",
   "metadata": {},
   "outputs": [],
   "source": [
    "# Разделение папки classification_data на train и test по 80/20\n",
    "source_dir = 'classification_data'\n",
    "train_dir = 'train'\n",
    "test_dir = 'test'\n",
    "\n",
    "os.makedirs(train_dir, exist_ok=True)\n",
    "os.makedirs(test_dir, exist_ok=True)\n",
    "\n",
    "for class_name in os.listdir(source_dir):\n",
    "    class_path = os.path.join(source_dir, class_name)\n",
    "    if not os.path.isdir(class_path):\n",
    "        continue\n",
    "\n",
    "    images = os.listdir(class_path)\n",
    "    train_images, test_images = train_test_split(images, test_size=0.2, random_state=42)\n",
    "\n",
    "    train_class_dir = os.path.join(train_dir, class_name)\n",
    "    test_class_dir = os.path.join(test_dir, class_name)\n",
    "    os.makedirs(train_class_dir, exist_ok=True)\n",
    "    os.makedirs(test_class_dir, exist_ok=True)\n",
    "\n",
    "    for img in train_images:\n",
    "        shutil.copy(os.path.join(class_path, img), os.path.join(train_class_dir, img))\n",
    "\n",
    "    for img in test_images:\n",
    "        shutil.copy(os.path.join(class_path, img), os.path.join(test_class_dir, img))\n",
    "\n"
   ]
  },
  {
   "cell_type": "markdown",
   "id": "cb1ea145",
   "metadata": {},
   "source": [
    "Для 7ой лабораторной"
   ]
  },
  {
   "cell_type": "code",
   "execution_count": null,
   "id": "fc45fdef",
   "metadata": {},
   "outputs": [],
   "source": [
    "# Подготовка масок из Pascal VOC аннотаций\n",
    "images_dir      = 'bccd_dataset/BCCD_Dataset-master/BCCD/JPEGImages'\n",
    "annotations_dir = 'bccd_dataset/BCCD_Dataset-master/BCCD/Annotations'\n",
    "masks_dir       = 'masks'\n",
    "classes         = ['WBC','RBC','Platelets']\n",
    "os.makedirs(masks_dir, exist_ok=True)\n",
    "for xml_file in glob(os.path.join(annotations_dir,'*.xml')):\n",
    "    tree = ET.parse(xml_file)\n",
    "    root = tree.getroot()\n",
    "    fn = os.path.splitext(os.path.basename(xml_file))[0] + '.jpg'\n",
    "    img_path = os.path.join(images_dir, fn)\n",
    "    img = cv2.imread(img_path)\n",
    "    h, w = img.shape[:2]\n",
    "    mask = np.zeros((h,w),dtype=np.uint8)\n",
    "    for obj in root.findall('object'):\n",
    "        cls = obj.find('name').text\n",
    "        idx = classes.index(cls)+1\n",
    "        bb = obj.find('bndbox')\n",
    "        x1,y1 = int(bb.find('xmin').text), int(bb.find('ymin').text)\n",
    "        x2,y2 = int(bb.find('xmax').text), int(bb.find('ymax').text)\n",
    "        mask[y1:y2, x1:x2] = idx\n",
    "    cv2.imwrite(os.path.join(masks_dir, fn.replace('.jpg','.png')), mask)\n"
   ]
  },
  {
   "cell_type": "markdown",
   "id": "70cdffc9",
   "metadata": {},
   "source": [
    "Для 8ой лабораторной"
   ]
  },
  {
   "cell_type": "code",
   "execution_count": null,
   "id": "451a892d",
   "metadata": {},
   "outputs": [],
   "source": [
    "import os\n",
    "import xml.etree.ElementTree as ET\n",
    "from sklearn.model_selection import train_test_split\n",
    "\n",
    "voc_ann_dir = 'BCCD/Annotations'\n",
    "voc_img_dir = 'BCCD/JPEGImages'\n",
    "output_dir = 'dataset_yolo'\n",
    "classes = ['WBC', 'RBC', 'Platelets']\n",
    "\n",
    "# Создаем структуру папок\n",
    "for split in ['train', 'val']:\n",
    "    os.makedirs(f'{output_dir}/images/{split}', exist_ok=True)\n",
    "    os.makedirs(f'{output_dir}/labels/{split}', exist_ok=True)\n",
    "\n",
    "\n",
    "voc_ann_dir = 'bccd_dataset/BCCD_Dataset-master/BCCD/Annotations'\n",
    "voc_img_dir = 'bccd_dataset/BCCD_Dataset-master/BCCD/JPEGImages'\n",
    "\n",
    "# Получаем список файлов\n",
    "all_files = [f[:-4] for f in os.listdir(voc_ann_dir) if f.endswith('.xml')]\n",
    "train_files, val_files = train_test_split(all_files, test_size=0.2, random_state=42)\n",
    "\n",
    "def convert_annotation(xml_path):\n",
    "    tree = ET.parse(xml_path)\n",
    "    root = tree.getroot()\n",
    "    size = root.find('size')\n",
    "    w, h = int(size.find('width').text), int(size.find('height').text)\n",
    "    result = []\n",
    "    for obj in root.findall('object'):\n",
    "        cls = obj.find('name').text\n",
    "        if cls not in classes:\n",
    "            continue\n",
    "        cls_id = classes.index(cls)\n",
    "        xmlbox = obj.find('bndbox')\n",
    "        b = [int(xmlbox.find(tag).text) for tag in ['xmin','ymin','xmax','ymax']]\n",
    "        xc = (b[0] + b[2]) / 2 / w\n",
    "        yc = (b[1] + b[3]) / 2 / h\n",
    "        bw = (b[2] - b[0]) / w\n",
    "        bh = (b[3] - b[1]) / h\n",
    "        result.append(f\"{cls_id} {xc:.6f} {yc:.6f} {bw:.6f} {bh:.6f}\")\n",
    "    return result\n",
    "\n",
    "# Конвертация и копирование изображений\n",
    "from shutil import copy2\n",
    "for split, filelist in zip(['train','val'], [train_files, val_files]):\n",
    "    for fname in filelist:\n",
    "        img_src = os.path.join(voc_img_dir, fname + '.jpg')\n",
    "        label_txt = convert_annotation(os.path.join(voc_ann_dir, fname + '.xml'))\n",
    "        with open(f\"{output_dir}/labels/{split}/{fname}.txt\", 'w') as f:\n",
    "            f.write('\\n'.join(label_txt))\n",
    "        copy2(img_src, f\"{output_dir}/images/{split}/{fname}.jpg\")"
   ]
  }
 ],
 "metadata": {
  "kernelspec": {
   "display_name": "Python 3",
   "language": "python",
   "name": "python3"
  },
  "language_info": {
   "codemirror_mode": {
    "name": "ipython",
    "version": 3
   },
   "file_extension": ".py",
   "mimetype": "text/x-python",
   "name": "python",
   "nbconvert_exporter": "python",
   "pygments_lexer": "ipython3",
   "version": "3.12.3"
  }
 },
 "nbformat": 4,
 "nbformat_minor": 5
}
