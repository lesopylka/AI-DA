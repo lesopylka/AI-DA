{
 "cells": [
  {
   "cell_type": "code",
   "execution_count": 1,
   "id": "f6c91794",
   "metadata": {},
   "outputs": [],
   "source": [
    "import os\n",
    "import zipfile\n",
    "import urllib.request"
   ]
  },
  {
   "cell_type": "code",
   "execution_count": 2,
   "id": "7a9c1236",
   "metadata": {},
   "outputs": [],
   "source": [
    "url = \"https://github.com/Shenggan/BCCD_Dataset/archive/refs/heads/master.zip\"\n",
    "filename = \"bccd.zip\"\n",
    "dir = \"bccd_dataset\""
   ]
  },
  {
   "cell_type": "code",
   "execution_count": 3,
   "id": "5576b25c",
   "metadata": {},
   "outputs": [
    {
     "data": {
      "text/plain": [
       "('bccd.zip', <http.client.HTTPMessage at 0x1dc8d7880e0>)"
      ]
     },
     "execution_count": 3,
     "metadata": {},
     "output_type": "execute_result"
    }
   ],
   "source": [
    "urllib.request.urlretrieve(url, filename)"
   ]
  },
  {
   "cell_type": "code",
   "execution_count": 4,
   "id": "1361ceeb",
   "metadata": {},
   "outputs": [],
   "source": [
    "with zipfile.ZipFile(filename, 'r') as zip_ref:\n",
    "    zip_ref.extractall(dir)"
   ]
  },
  {
   "cell_type": "code",
   "execution_count": 5,
   "id": "d7bdb845",
   "metadata": {},
   "outputs": [
    {
     "data": {
      "text/plain": [
       "['BCCD_Dataset-master']"
      ]
     },
     "execution_count": 5,
     "metadata": {},
     "output_type": "execute_result"
    }
   ],
   "source": [
    "\n",
    "os.listdir(dir)"
   ]
  }
 ],
 "metadata": {
  "kernelspec": {
   "display_name": "Python 3",
   "language": "python",
   "name": "python3"
  },
  "language_info": {
   "codemirror_mode": {
    "name": "ipython",
    "version": 3
   },
   "file_extension": ".py",
   "mimetype": "text/x-python",
   "name": "python",
   "nbconvert_exporter": "python",
   "pygments_lexer": "ipython3",
   "version": "3.12.3"
  }
 },
 "nbformat": 4,
 "nbformat_minor": 5
}
