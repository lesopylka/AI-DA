{
 "cells": [
  {
   "cell_type": "code",
   "execution_count": 6,
   "id": "f6c91794",
   "metadata": {},
   "outputs": [],
   "source": [
    "import os\n",
    "import urllib.request\n",
    "import zipfile\n",
    "from pathlib import Path"
   ]
  },
  {
   "cell_type": "code",
   "execution_count": 7,
   "id": "7a9c1236",
   "metadata": {},
   "outputs": [],
   "source": [
    "url = \"https://github.com/Shenggan/BCCD_Dataset/archive/refs/heads/master.zip\"\n",
    "filename = \"bccd.zip\"\n",
    "extract_dir = \"bccd_dataset\"\n",
    "dataset_folder_name = \"BCCD_Dataset-master\""
   ]
  },
  {
   "cell_type": "code",
   "execution_count": 3,
   "id": "5576b25c",
   "metadata": {},
   "outputs": [
    {
     "data": {
      "text/plain": [
       "('bccd.zip', <http.client.HTTPMessage at 0x1dc8d7880e0>)"
      ]
     },
     "execution_count": 3,
     "metadata": {},
     "output_type": "execute_result"
    }
   ],
   "source": [
    "urllib.request.urlretrieve(url, filename)"
   ]
  },
  {
   "cell_type": "code",
   "execution_count": 4,
   "id": "1361ceeb",
   "metadata": {},
   "outputs": [],
   "source": [
    "with zipfile.ZipFile(filename, 'r') as zip_ref:\n",
    "    zip_ref.extractall(dir)"
   ]
  },
  {
   "cell_type": "code",
   "execution_count": 8,
   "id": "18b92821",
   "metadata": {},
   "outputs": [],
   "source": [
    "bccd_root = os.path.join(extract_dir, dataset_folder_name)"
   ]
  },
  {
   "cell_type": "code",
   "execution_count": null,
   "id": "d7bdb845",
   "metadata": {},
   "outputs": [
    {
     "data": {
      "text/plain": [
       "['BCCD_Dataset-master']"
      ]
     },
     "execution_count": 5,
     "metadata": {},
     "output_type": "execute_result"
    }
   ],
   "source": [
    "os.listdir(dir)"
   ]
  }
 ],
 "metadata": {
  "kernelspec": {
   "display_name": "Python 3",
   "language": "python",
   "name": "python3"
  },
  "language_info": {
   "codemirror_mode": {
    "name": "ipython",
    "version": 3
   },
   "file_extension": ".py",
   "mimetype": "text/x-python",
   "name": "python",
   "nbconvert_exporter": "python",
   "pygments_lexer": "ipython3",
   "version": "3.12.3"
  }
 },
 "nbformat": 4,
 "nbformat_minor": 5
}
